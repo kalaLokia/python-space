{
 "metadata": {
  "language_info": {
   "codemirror_mode": {
    "name": "ipython",
    "version": 3
   },
   "file_extension": ".py",
   "mimetype": "text/x-python",
   "name": "python",
   "nbconvert_exporter": "python",
   "pygments_lexer": "ipython3",
   "version": "3.8.5-final"
  },
  "orig_nbformat": 2,
  "kernelspec": {
   "name": "Python 3.8.5 32-bit",
   "display_name": "Python 3.8.5 32-bit",
   "metadata": {
    "interpreter": {
     "hash": "55a646df861d08d2894b7c5e72e0b49159e4df03fdfd4fc7305e7ff174a7ea9a"
    }
   }
  }
 },
 "nbformat": 4,
 "nbformat_minor": 2,
 "cells": [
  {
   "cell_type": "code",
   "execution_count": 1,
   "metadata": {},
   "outputs": [],
   "source": [
    "\"\"\"Necessary imports\"\"\"\n",
    "import numpy as np\n",
    "from pyautocad import Autocad, APoint, types, ACAD "
   ]
  },
  {
   "cell_type": "code",
   "execution_count": 79,
   "metadata": {},
   "outputs": [],
   "source": [
    "def polyline_centre(polyline):\n",
    "    \"\"\"\n",
    "    Returns (x, y) points in a ndarray, requires polyline's boundary in a tuple.\n",
    "    \"\"\"\n",
    "    boundary = polyline.GetBoundingBox()\n",
    "    xi, yi = boundary[0][:2]\n",
    "    xf, yf = boundary[1][:2]\n",
    "    return (xi+((xf-xi)/2), yi+((yf-yi)/2))\n"
   ]
  },
  {
   "cell_type": "code",
   "execution_count": 9,
   "metadata": {},
   "outputs": [],
   "source": [
    "def polyline_coordinates(coordinates):\n",
    "    \"\"\"\n",
    "    Returns an ndarray containing tuple of all coordinates of the polyline.\n",
    "    Requires supplied coordinates to be a list.\n",
    "    \"\"\"\n",
    "    return np.array(coordinates).reshape(-1, 2)\n"
   ]
  },
  {
   "cell_type": "code",
   "execution_count": 11,
   "metadata": {},
   "outputs": [],
   "source": [
    "def draw_line(a, b):\n",
    "    \"\"\"Draws a straight line for the given points (each in a tuple)\"\"\"\n",
    "    acad.model.AddLine(APoint(*a), APoint(*b))\n",
    "    "
   ]
  },
  {
   "cell_type": "code",
   "execution_count": 25,
   "metadata": {},
   "outputs": [],
   "source": [
    "def draw_rexin(x=0, y=0):\n",
    "    \"\"\"Draws a rexin layout starting on the given (x, y) points, defualt to origin.\"\"\"\n",
    "    draw_line((x, y), (x+1400, y))\n",
    "    draw_line((x, y), (x, y+1000))\n",
    "    draw_line(((x+1400), y), ((x+1400), (y+1000)))\n"
   ]
  },
  {
   "source": [
    "### Starting autocad application for the function."
   ],
   "cell_type": "markdown",
   "metadata": {}
  },
  {
   "cell_type": "code",
   "execution_count": 14,
   "metadata": {},
   "outputs": [],
   "source": [
    "acad = Autocad(create_if_not_exists=True)"
   ]
  },
  {
   "source": [
    "### Testing connection with autocad"
   ],
   "cell_type": "markdown",
   "metadata": {}
  },
  {
   "cell_type": "code",
   "execution_count": 18,
   "metadata": {
    "tags": []
   },
   "outputs": [
    {
     "output_type": "stream",
     "name": "stdout",
     "text": "\tHi kalaLokia,  Autocad loaded on the python intrepreter successfully.\n"
    }
   ],
   "source": [
    "acad.prompt(\"\\tHi kalaLokia,  Autocad loaded on the python intrepreter successfully.\")"
   ]
  },
  {
   "source": [
    "#### Getting opened autocad document name, all operations are performed in this document."
   ],
   "cell_type": "markdown",
   "metadata": {}
  },
  {
   "cell_type": "code",
   "execution_count": 23,
   "metadata": {
    "tags": []
   },
   "outputs": [
    {
     "output_type": "stream",
     "name": "stdout",
     "text": "test.dwg\n"
    }
   ],
   "source": [
    "print(acad.doc.Name)"
   ]
  },
  {
   "cell_type": "code",
   "execution_count": 27,
   "metadata": {},
   "outputs": [],
   "source": [
    "# Draws a rexin at origin\n",
    "draw_rexin()"
   ]
  },
  {
   "cell_type": "code",
   "execution_count": 29,
   "metadata": {
    "tags": []
   },
   "outputs": [
    {
     "output_type": "stream",
     "name": "stdout",
     "text": "AcDbPolyline\nAcDbLine\nAcDbLine\nAcDbLine\n"
    }
   ],
   "source": [
    "for obj in acad.iter_objects():\n",
    "    print(obj.ObjectName)"
   ]
  },
  {
   "source": [
    "#### *Get the polyline object for further process*"
   ],
   "cell_type": "markdown",
   "metadata": {}
  },
  {
   "cell_type": "code",
   "execution_count": 61,
   "metadata": {},
   "outputs": [
    {
     "output_type": "execute_result",
     "data": {
      "text/plain": "<POINTER(IAcadLWPolyline) ptr=0x42c75dc at b41d928>"
     },
     "metadata": {},
     "execution_count": 61
    }
   ],
   "source": [
    "for obj in acad.iter_objects('Polyline'):\n",
    "    polyline = obj\n",
    "polyline"
   ]
  },
  {
   "source": [
    "#### *Taking a copy of original polyline for further operations.*"
   ],
   "cell_type": "markdown",
   "metadata": {}
  },
  {
   "cell_type": "code",
   "execution_count": 62,
   "metadata": {},
   "outputs": [],
   "source": [
    "pl = polyline.Copy()"
   ]
  },
  {
   "source": [
    "#### *Getting the centre of polyline that we taken a blue copy above.*"
   ],
   "cell_type": "markdown",
   "metadata": {}
  },
  {
   "cell_type": "code",
   "execution_count": 80,
   "metadata": {},
   "outputs": [
    {
     "output_type": "execute_result",
     "data": {
      "text/plain": "(38.48635031485537, 65.69744866885725)"
     },
     "metadata": {},
     "execution_count": 80
    }
   ],
   "source": [
    "polyline_centre(pl)"
   ]
  },
  {
   "source": [
    "#### *Getting initial x, y points of polyline*"
   ],
   "cell_type": "markdown",
   "metadata": {}
  },
  {
   "cell_type": "code",
   "execution_count": 88,
   "metadata": {
    "tags": []
   },
   "outputs": [
    {
     "output_type": "stream",
     "name": "stdout",
     "text": "38.48635031485537 65.69744866885725\n"
    }
   ],
   "source": [
    "pl_xi, pl_yi = np.array(polyline_centre(pl)) - np.array(pl.GetBoundingBox()[0][:2])\n",
    "print(pl_xi, pl_yi)"
   ]
  },
  {
   "source": [
    "#### *Setting start point of polyline 10mm away from origin.*"
   ],
   "cell_type": "markdown",
   "metadata": {}
  },
  {
   "cell_type": "code",
   "execution_count": 82,
   "metadata": {},
   "outputs": [
    {
     "output_type": "execute_result",
     "data": {
      "text/plain": "0"
     },
     "metadata": {},
     "execution_count": 82
    }
   ],
   "source": [
    "pl.Move(APoint(*polyline_centre(pl)), APoint(pl_xi + 10, pl_yi + 10))"
   ]
  },
  {
   "source": [
    "### *More polylines in vertical*"
   ],
   "cell_type": "markdown",
   "metadata": {}
  },
  {
   "cell_type": "code",
   "execution_count": 91,
   "metadata": {},
   "outputs": [],
   "source": [
    "pl.GetBoundingBox()\n",
    "pl2 = pl.Copy()"
   ]
  },
  {
   "cell_type": "code",
   "execution_count": 135,
   "metadata": {
    "tags": []
   },
   "outputs": [
    {
     "output_type": "stream",
     "name": "stdout",
     "text": "38.48635031485537 65.69744866885725 125.45905094456612 207.09234600657174\n"
    }
   ],
   "source": [
    "pl_xf, pl_yf = np.array(pl.GetBoundingBox()[1][:2]) + np.array([pl_xi, pl_yi])\n",
    "print(pl_xi, pl_yi, pl_xf, pl_yf)"
   ]
  },
  {
   "cell_type": "code",
   "execution_count": 134,
   "metadata": {},
   "outputs": [
    {
     "output_type": "execute_result",
     "data": {
      "text/plain": "0"
     },
     "metadata": {},
     "execution_count": 134
    }
   ],
   "source": [
    "pl2.Move(APoint(*polyline_centre(pl2)), APoint(pl_xi+10, pl_yf))"
   ]
  },
  {
   "cell_type": "code",
   "execution_count": 136,
   "metadata": {
    "tags": []
   },
   "outputs": [
    {
     "output_type": "stream",
     "name": "stdout",
     "text": "38.48635031485537 65.69744866885725 125.45905094456612 338.48724334428636\n"
    }
   ],
   "source": [
    "pl3 = pl.Copy()\n",
    "pl_xf, pl_yf = np.array(pl2.GetBoundingBox()[1][:2]) + np.array([pl_xi, pl_yi])\n",
    "print(pl_xi, pl_yi, pl_xf, pl_yf)\n"
   ]
  },
  {
   "cell_type": "code",
   "execution_count": 138,
   "metadata": {},
   "outputs": [
    {
     "output_type": "execute_result",
     "data": {
      "text/plain": "0"
     },
     "metadata": {},
     "execution_count": 138
    }
   ],
   "source": [
    "pl3.Move(APoint(*polyline_centre(pl3)), APoint(pl_xi+10, pl_yf))"
   ]
  },
  {
   "cell_type": "code",
   "execution_count": null,
   "metadata": {},
   "outputs": [],
   "source": []
  }
 ]
}